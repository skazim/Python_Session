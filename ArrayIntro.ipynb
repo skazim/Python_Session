{
 "cells": [
  {
   "cell_type": "code",
   "execution_count": 12,
   "metadata": {},
   "outputs": [
    {
     "name": "stdout",
     "output_type": "stream",
     "text": [
      "Array List  [1, 2] and its type <class 'list'>\n",
      "Repeats  [1, 2, 1, 2]\n",
      "Concatenation [1, 2, 3, 4]\n"
     ]
    }
   ],
   "source": [
    "# array List\n",
    "a = [1,2]\n",
    "print(\"Array List \",a,\"and its type\", type(a))\n",
    "\n",
    "# Array list Multiplication - Repeats\n",
    "print(\"Repeats \",2*a)\n",
    "\n",
    "# Array List Addition - Concatenates\n",
    "b = [3,4]\n",
    "print(\"Concatenation\",a+b)"
   ]
  },
  {
   "cell_type": "code",
   "execution_count": 43,
   "metadata": {},
   "outputs": [
    {
     "name": "stdout",
     "output_type": "stream",
     "text": [
      "Numpy Array  [1 2] and its type <class 'numpy.ndarray'>\n",
      "Multiplication with constant [2 4]\n",
      "Addition with constant [3 4]\n",
      "Addition with other Numpy Array [4 6]\n",
      "Mulplication with Other Array [3 8]\n",
      "11\n",
      "[[1 2 3]\n",
      " [4 5 6]] 2\n"
     ]
    }
   ],
   "source": [
    "# Numpy array and its Operation\n",
    "\n",
    "import numpy as np\n",
    "a = np.array([1,2])\n",
    "print(\"Numpy Array \",a,\"and its type\", type(a))\n",
    "print(\"Multiplication with constant\", a*2)\n",
    "print(\"Addition with constant\", 2+a)\n",
    "b= np.array([3,4])\n",
    "print(\"Addition with other Numpy Array\", a+b)\n",
    "print(\"Mulplication with Other Array\", a*b) # here * mean component wise or else Voilation of Matrix multiplication\n",
    "c = np.matmul(b,a)\n",
    "print(c)\n",
    "\n",
    "# We can also create numpy array using array list\n",
    "c= [[1,2,3], [4,5,6]]\n",
    "x= np.array(c)\n",
    "print(x , x.ndim)"
   ]
  },
  {
   "cell_type": "code",
   "execution_count": 95,
   "metadata": {},
   "outputs": [
    {
     "name": "stdout",
     "output_type": "stream",
     "text": [
      "[5 7 9]\n",
      "[[0.32279689 0.97700536 0.9773375  0.38644001]\n",
      " [0.51537981 0.33648684 0.33151784 0.92506396]\n",
      " [0.2227223  0.46674991 0.01924061 0.28979872]\n",
      " [0.93527931 0.15658743 0.1458239  0.29840541]]\n",
      "[[3 6 4]\n",
      " [6 5 3]\n",
      " [3 6 1]\n",
      " [1 8 2]\n",
      " [5 5 6]]\n",
      "**********************************************\n",
      "[[ 0  1  2  3]\n",
      " [ 4  5  6  7]\n",
      " [ 8  9 10 11]\n",
      " [12 13 14 15]\n",
      " [16 17 18 19]]\n",
      "11\n",
      "15\n",
      "[[ 0  1  2  3]\n",
      " [ 4  5  6  7]\n",
      " [ 8  9 10 11]]\n"
     ]
    }
   ],
   "source": [
    "# Numpy array can also be created using\n",
    "# numpy.arange(start, stop, step, dtype=None)\n",
    "a = np.arange(5,10,2)\n",
    "print(a)\n",
    "\n",
    "randomArray = np.random.random((4,4))\n",
    "print(randomArray)\n",
    "\n",
    "# we can specify random range\n",
    "\n",
    "randomRange= np.random.randint(1,10, (5,3)) # start, stop , (rows, columns)\n",
    "print(randomRange)\n",
    "\n",
    "\n",
    "# reshaping Numpy array \n",
    "\n",
    "print(\"**********************************************\")\n",
    "reshapingArray = np.arange(0,20).reshape((5,4))\n",
    "print(reshapingArray)\n",
    "print(reshapingArray[2,3])\n",
    "print(reshapingArray[3,3])\n",
    "print(reshapingArray[0:3,0:4]) # 3 and 4 exclusive"
   ]
  },
  {
   "cell_type": "code",
   "execution_count": 102,
   "metadata": {},
   "outputs": [
    {
     "name": "stdout",
     "output_type": "stream",
     "text": [
      "(2, 3) (3,)\n",
      "[ 50 122]\n"
     ]
    }
   ],
   "source": [
    "A = np.array([\n",
    "    [1,2,3],\n",
    "    [4,5,6]\n",
    "])\n",
    "B = np.array([7,8,9])\n",
    "print(A.shape,B.shape)\n",
    "c= np.dot(A,B)\n",
    "print(c)\n",
    "\n",
    "\n"
   ]
  },
  {
   "cell_type": "code",
   "execution_count": null,
   "metadata": {},
   "outputs": [],
   "source": []
  }
 ],
 "metadata": {
  "kernelspec": {
   "display_name": "Python [default]",
   "language": "python",
   "name": "python3"
  },
  "language_info": {
   "codemirror_mode": {
    "name": "ipython",
    "version": 3
   },
   "file_extension": ".py",
   "mimetype": "text/x-python",
   "name": "python",
   "nbconvert_exporter": "python",
   "pygments_lexer": "ipython3",
   "version": "3.5.5"
  }
 },
 "nbformat": 4,
 "nbformat_minor": 2
}
