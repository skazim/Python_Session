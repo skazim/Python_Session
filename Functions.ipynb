{
 "cells": [
  {
   "cell_type": "code",
   "execution_count": 1,
   "metadata": {},
   "outputs": [
    {
     "name": "stdout",
     "output_type": "stream",
     "text": [
      "0.06363636363636363\n",
      "35.49\n",
      "45.0\n"
     ]
    }
   ],
   "source": [
    "# functions are declared as def\n",
    "def myfunction(x,y,z=1.5):\n",
    "    if z> 1:\n",
    "        return z * (x+y)\n",
    "    else:\n",
    "        return z / (x+y)\n",
    "    \n",
    "\n",
    "print(myfunction(5,6,z=0.7))  # 0.7 / (5+6)\n",
    "print(myfunction(3.14, 7, 3.5)) # 3.5 * (3.14+7)\n",
    "print(myfunction(10, 20)) # 1.5 * (10+20)"
   ]
  },
  {
   "cell_type": "code",
   "execution_count": 2,
   "metadata": {},
   "outputs": [
    {
     "name": "stdout",
     "output_type": "stream",
     "text": [
      "3 4 5\n"
     ]
    }
   ],
   "source": [
    "# loop within function\n",
    "a=[]\n",
    "def func():\n",
    "    for i in range(5):\n",
    "        a.append(i)\n",
    "func()\n",
    "a\n",
    "\n",
    "# returning multiple values\n",
    "def multipleValue():\n",
    "    a=3\n",
    "    b=4\n",
    "    c=5\n",
    "    return a,b,c\n",
    "a,b,c= multipleValue()\n",
    "print(a,b,c)"
   ]
  },
  {
   "cell_type": "code",
   "execution_count": 6,
   "metadata": {},
   "outputs": [
    {
     "name": "stdout",
     "output_type": "stream",
     "text": [
      "{'a': 5, 'c': 7, 'b': 6}\n"
     ]
    }
   ],
   "source": [
    "def multipleValue2():\n",
    "    a = 5\n",
    "    b = 6\n",
    "    c = 7\n",
    "    return {'a' : a, 'b' : b, 'c' : c}\n",
    "print(multipleValue2())\n"
   ]
  },
  {
   "cell_type": "code",
   "execution_count": 12,
   "metadata": {},
   "outputs": [
    {
     "data": {
      "text/plain": [
       "['Alabama',\n",
       " 'Georgia',\n",
       " 'Georgia',\n",
       " 'Georgia',\n",
       " 'Florida',\n",
       " 'South   Carolina',\n",
       " 'West Virginia']"
      ]
     },
     "execution_count": 12,
     "metadata": {},
     "output_type": "execute_result"
    }
   ],
   "source": [
    "# Functions are objects \n",
    "# cleaning Messy data\n",
    "# stripping whitespace, removing punctuation symbols, and standardizing on proper capitalization\n",
    "\n",
    "states=['Alabama ', 'Georgia!', 'Georgia', 'georgia', 'FlOrIda','south   carolina###', 'West virginia?']\n",
    "import re\n",
    "def clean_states(strings):\n",
    "    result = []\n",
    "    for value in strings:\n",
    "        value= value.strip()\n",
    "        value= re.sub('[!#?]','',value)\n",
    "        value= value.title()\n",
    "        result.append(value)\n",
    "    return result\n",
    "clean_states(states)"
   ]
  },
  {
   "cell_type": "code",
   "execution_count": 20,
   "metadata": {},
   "outputs": [
    {
     "name": "stdout",
     "output_type": "stream",
     "text": [
      "16\n",
      "16\n"
     ]
    }
   ],
   "source": [
    "# Anonymous or lambda functions\n",
    "def short_function(x):\n",
    "    return x * 2\n",
    "\n",
    "print(short_function(8))\n",
    "equivalentFunction= lambda x : x*2\n",
    "print(equivalentFunction(8))"
   ]
  },
  {
   "cell_type": "code",
   "execution_count": 21,
   "metadata": {},
   "outputs": [
    {
     "data": {
      "text/plain": [
       "[4, 6, 8, 2, 8, 2, 10, 4]"
      ]
     },
     "execution_count": 21,
     "metadata": {},
     "output_type": "execute_result"
    }
   ],
   "source": [
    "# more Lambda examples - multiplying and looping over list\n",
    "def apply_List(someList,f):\n",
    "    return [f(x) for x in someList]\n",
    "\n",
    "ints = [2,3,4,1,4,1,5,2]\n",
    "apply_List(ints, lambda x: x*2)"
   ]
  },
  {
   "cell_type": "code",
   "execution_count": 24,
   "metadata": {},
   "outputs": [
    {
     "name": "stdout",
     "output_type": "stream",
     "text": [
      "7\n"
     ]
    }
   ],
   "source": [
    "# More Lambda Examples - Partial Arguments\n",
    "def add_numbers(x,y):\n",
    "    return x+y\n",
    "\n",
    "add_five = lambda y: add_numbers(5,y)\n",
    "print(add_five(2))"
   ]
  },
  {
   "cell_type": "code",
   "execution_count": 27,
   "metadata": {},
   "outputs": [
    {
     "name": "stdout",
     "output_type": "stream",
     "text": [
      "<generator object _make_gen at 0x7fe0b02c1af0>\n"
     ]
    }
   ],
   "source": [
    "def _make_gen():\n",
    "    for x in range(100):\n",
    "        yield x ** 2\n",
    "gen = _make_gen()\n",
    "print(gen)"
   ]
  },
  {
   "cell_type": "code",
   "execution_count": null,
   "metadata": {},
   "outputs": [],
   "source": []
  }
 ],
 "metadata": {
  "kernelspec": {
   "display_name": "Python [default]",
   "language": "python",
   "name": "python3"
  },
  "language_info": {
   "codemirror_mode": {
    "name": "ipython",
    "version": 3
   },
   "file_extension": ".py",
   "mimetype": "text/x-python",
   "name": "python",
   "nbconvert_exporter": "python",
   "pygments_lexer": "ipython3",
   "version": "3.5.5"
  }
 },
 "nbformat": 4,
 "nbformat_minor": 2
}
