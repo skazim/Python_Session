{
 "cells": [
  {
   "cell_type": "code",
   "execution_count": 1,
   "metadata": {},
   "outputs": [
    {
     "name": "stdout",
     "output_type": "stream",
     "text": [
      "0.06363636363636363\n",
      "35.49\n",
      "45.0\n"
     ]
    }
   ],
   "source": [
    "# functions are declared as def\n",
    "def myfunction(x,y,z=1.5):\n",
    "    if z> 1:\n",
    "        return z * (x+y)\n",
    "    else:\n",
    "        return z / (x+y)\n",
    "    \n",
    "\n",
    "print(myfunction(5,6,z=0.7))  # 0.7 / (5+6)\n",
    "print(myfunction(3.14, 7, 3.5)) # 3.5 * (3.14+7)\n",
    "print(myfunction(10, 20)) # 1.5 * (10+20)"
   ]
  },
  {
   "cell_type": "code",
   "execution_count": 2,
   "metadata": {},
   "outputs": [
    {
     "name": "stdout",
     "output_type": "stream",
     "text": [
      "3 4 5\n"
     ]
    }
   ],
   "source": [
    "# loop within function\n",
    "a=[]\n",
    "def func():\n",
    "    for i in range(5):\n",
    "        a.append(i)\n",
    "func()\n",
    "a\n",
    "\n",
    "# returning multiple values\n",
    "def multipleValue():\n",
    "    a=3\n",
    "    b=4\n",
    "    c=5\n",
    "    return a,b,c\n",
    "a,b,c= multipleValue()\n",
    "print(a,b,c)"
   ]
  },
  {
   "cell_type": "code",
   "execution_count": 3,
   "metadata": {},
   "outputs": [
    {
     "name": "stdout",
     "output_type": "stream",
     "text": [
      "{'c': 7, 'a': 5, 'b': 6}\n"
     ]
    }
   ],
   "source": [
    "def multipleValue2():\n",
    "    a = 5\n",
    "    b = 6\n",
    "    c = 7\n",
    "    return {'a' : a, 'b' : b, 'c' : c}\n",
    "print(multipleValue2())\n"
   ]
  },
  {
   "cell_type": "code",
   "execution_count": 4,
   "metadata": {},
   "outputs": [
    {
     "data": {
      "text/plain": [
       "['Alabama',\n",
       " 'Georgia',\n",
       " 'Georgia',\n",
       " 'Georgia',\n",
       " 'Florida',\n",
       " 'South   Carolina',\n",
       " 'West Virginia']"
      ]
     },
     "execution_count": 4,
     "metadata": {},
     "output_type": "execute_result"
    }
   ],
   "source": [
    "# Functions are objects \n",
    "# cleaning Messy data\n",
    "# stripping whitespace, removing punctuation symbols, and standardizing on proper capitalization\n",
    "\n",
    "states=['Alabama ', 'Georgia!', 'Georgia', 'georgia', 'FlOrIda','south   carolina###', 'West virginia?']\n",
    "import re\n",
    "def clean_states(strings):\n",
    "    result = []\n",
    "    for value in strings:\n",
    "        value= value.strip()\n",
    "        value= re.sub('[!#?]','',value)\n",
    "        value= value.title()\n",
    "        result.append(value)\n",
    "    return result\n",
    "clean_states(states)"
   ]
  },
  {
   "cell_type": "code",
   "execution_count": 5,
   "metadata": {},
   "outputs": [
    {
     "name": "stdout",
     "output_type": "stream",
     "text": [
      "16\n",
      "16\n"
     ]
    }
   ],
   "source": [
    "# Anonymous or lambda functions -- writing function consist of a single statement, result is the return value\n",
    "def short_function(x):\n",
    "    return x * 2\n",
    "\n",
    "print(short_function(8))\n",
    "equivalentFunction= lambda x : x*2\n",
    "print(equivalentFunction(8))"
   ]
  },
  {
   "cell_type": "code",
   "execution_count": 6,
   "metadata": {},
   "outputs": [
    {
     "data": {
      "text/plain": [
       "[4, 6, 8, 2, 8, 2, 10, 4]"
      ]
     },
     "execution_count": 6,
     "metadata": {},
     "output_type": "execute_result"
    }
   ],
   "source": [
    "# more Lambda examples - multiplying and looping over list\n",
    "def apply_List(someList,f):\n",
    "    return [f(x) for x in someList]\n",
    "\n",
    "ints = [2,3,4,1,4,1,5,2]\n",
    "apply_List(ints, lambda x: x*2)"
   ]
  },
  {
   "cell_type": "code",
   "execution_count": 7,
   "metadata": {},
   "outputs": [
    {
     "name": "stdout",
     "output_type": "stream",
     "text": [
      "7\n"
     ]
    }
   ],
   "source": [
    "# More Lambda Examples - Partial Arguments\n",
    "def add_numbers(x,y):\n",
    "    return x+y\n",
    "\n",
    "add_five = lambda y: add_numbers(5,y)\n",
    "print(add_five(2))"
   ]
  },
  {
   "cell_type": "code",
   "execution_count": 46,
   "metadata": {},
   "outputs": [
    {
     "name": "stdout",
     "output_type": "stream",
     "text": [
      "[0, 1, 2, 3, 4]\n",
      "<generator object <genexpr> at 0x7f1f33b711a8>\n",
      "0\n",
      "1\n",
      "2\n",
      "3\n",
      "4\n"
     ]
    }
   ],
   "source": [
    "# list Comprehension -- allows you to create a list within a loop\n",
    "list_comp = [x for x in range(5)]\n",
    "# print(list_comp)\n",
    "\n",
    "def _make_gen():\n",
    "    for x in range(100):\n",
    "        yield x ** 2\n",
    "gen = _make_gen()\n",
    "# for x in gen:\n",
    "#     print(x)\n",
    "\n",
    "# look at the example \n",
    "# difference in list comprehension and generator expression\n",
    "\n",
    "some_list = [x for x in range(5)]\n",
    "print(some_list)\n",
    "some_gen = (x for x in range(5))\n",
    "print(some_gen)\n",
    "\n",
    "for x in some_gen:\n",
    "    print(x)"
   ]
  },
  {
   "cell_type": "code",
   "execution_count": 31,
   "metadata": {},
   "outputs": [
    {
     "name": "stdout",
     "output_type": "stream",
     "text": [
      "d\n",
      "a\n",
      "b\n"
     ]
    },
    {
     "data": {
      "text/plain": [
       "['d', 'a', 'b']"
      ]
     },
     "execution_count": 31,
     "metadata": {},
     "output_type": "execute_result"
    }
   ],
   "source": [
    "some_dict = {'a': 1, 'b': 2,'d':0}\n",
    "for key in some_dict:\n",
    "    print(key)\n",
    "    \n",
    "list(iter(some_dict))"
   ]
  },
  {
   "cell_type": "code",
   "execution_count": 34,
   "metadata": {},
   "outputs": [
    {
     "name": "stdout",
     "output_type": "stream",
     "text": [
      "[[1, 'A'], [1, 'B'], [1, 'C'], [1, 'D'], [1, 'E'], [2, 'A'], [2, 'B'], [2, 'C'], [2, 'D'], [2, 'E'], [3, 'A'], [3, 'B'], [3, 'C'], [3, 'D'], [3, 'E'], [4, 'A'], [4, 'B'], [4, 'C'], [4, 'D'], [4, 'E'], [5, 'A'], [5, 'B'], [5, 'C'], [5, 'D'], [5, 'E']]\n"
     ]
    }
   ],
   "source": [
    "nums = [1,2,3,4,5]\n",
    "letters = ['A','B','C','D','E']\n",
    "\n",
    "multiples = [[n,l] for n in nums for l in letters]\n",
    "print(multiples)"
   ]
  },
  {
   "cell_type": "code",
   "execution_count": 37,
   "metadata": {},
   "outputs": [
    {
     "name": "stdout",
     "output_type": "stream",
     "text": [
      "{0: 'A', 1: 'B', 2: 'C', 3: 'D', 4: 'E', 5: 'F', 6: 'G', 7: 'H', 8: 'I', 9: 'J', 10: 'K'}\n"
     ]
    }
   ],
   "source": [
    "# creating dict using loop\n",
    "some_dict = {x:chr(65+x) for x in range(0,11)}\n",
    "print(some_dict)"
   ]
  },
  {
   "cell_type": "code",
   "execution_count": 40,
   "metadata": {},
   "outputs": [
    {
     "name": "stdout",
     "output_type": "stream",
     "text": [
      "0\n",
      "4\n",
      "16\n",
      "36\n",
      "64\n"
     ]
    }
   ],
   "source": [
    "gen_exp = (x**2 for x in range(10) if x %2 ==0)\n",
    "for x in gen_exp:\n",
    "    print(x)"
   ]
  },
  {
   "cell_type": "code",
   "execution_count": null,
   "metadata": {},
   "outputs": [],
   "source": [
    "\n"
   ]
  }
 ],
 "metadata": {
  "kernelspec": {
   "display_name": "Python [default]",
   "language": "python",
   "name": "python3"
  },
  "language_info": {
   "codemirror_mode": {
    "name": "ipython",
    "version": 3
   },
   "file_extension": ".py",
   "mimetype": "text/x-python",
   "name": "python",
   "nbconvert_exporter": "python",
   "pygments_lexer": "ipython3",
   "version": "3.5.5"
  }
 },
 "nbformat": 4,
 "nbformat_minor": 2
}
