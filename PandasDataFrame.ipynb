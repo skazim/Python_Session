{
 "cells": [
  {
   "cell_type": "code",
   "execution_count": 15,
   "metadata": {},
   "outputs": [
    {
     "name": "stdout",
     "output_type": "stream",
     "text": [
      "     Col1 Col2\n",
      "Row1    1    2\n",
      "Row2    3    4 (2, 2)\n"
     ]
    }
   ],
   "source": [
    "import pandas as pd\n",
    "import numpy as np\n",
    "\n",
    "data = np.array([\n",
    "    ['','Col1', 'Col2'],\n",
    "    ['Row1', 1, 2],\n",
    "    ['Row2', 3,4]\n",
    "])\n",
    "# print(data[1:,0:])\n",
    "\n",
    "# data[row,col] means all rows all columns\n",
    "# data[0:,0:] all rows all columns\n",
    "# data[1:, 1:] from row 1 and col 1 to all rows columns\n",
    "# data[1:, 0] means row 1 row 2 but only column 0 \n",
    "df = pd.DataFrame(data= data[1:,1:], index=data[1:, 0], columns=data[0,1:])\n",
    "print(df, df.shape)"
   ]
  },
  {
   "cell_type": "code",
   "execution_count": 19,
   "metadata": {},
   "outputs": [
    {
     "name": "stdout",
     "output_type": "stream",
     "text": [
      "  Condition:    Group  Subject ID  Trail\n",
      "0     Affect  Control           1      1\n",
      "1     Affect  Control           1      2\n",
      "2     Affect  Control           1      3\n",
      "3     Affect  Control           1      4\n",
      "4    Neutral  Control           1      5\n",
      "5    Neutral  Control           1      6\n"
     ]
    }
   ],
   "source": [
    "# lets create real data using numpy and pandas \n",
    "\n",
    "import pandas as pd\n",
    "import numpy as np\n",
    "trail = [1,2,3,4,5,6]\n",
    "sub_id = [1]*6\n",
    "group = ['Control']*6\n",
    "condition = ['Affect']*4 + ['Neutral']*2\n",
    "data = {'Condition:':condition, 'Subject ID':sub_id,'Trail':trail,'Group':group}\n",
    "print(pd.DataFrame(data))"
   ]
  },
  {
   "cell_type": "code",
   "execution_count": 53,
   "metadata": {},
   "outputs": [],
   "source": [
    "# reading CSV files using pd\n",
    "\n",
    "data_csv = pd.read_csv('/home/mkazim/Downloads/channing.csv')"
   ]
  },
  {
   "cell_type": "code",
   "execution_count": 54,
   "metadata": {},
   "outputs": [
    {
     "data": {
      "text/plain": [
       "True"
      ]
     },
     "execution_count": 54,
     "metadata": {},
     "output_type": "execute_result"
    }
   ],
   "source": [
    "data_csv['Unnamed: 0'].is_unique"
   ]
  },
  {
   "cell_type": "code",
   "execution_count": 55,
   "metadata": {},
   "outputs": [],
   "source": [
    "data_csv= data_csv.set_index('Unnamed: 0')"
   ]
  },
  {
   "cell_type": "code",
   "execution_count": 56,
   "metadata": {},
   "outputs": [
    {
     "data": {
      "text/html": [
       "<div>\n",
       "<style scoped>\n",
       "    .dataframe tbody tr th:only-of-type {\n",
       "        vertical-align: middle;\n",
       "    }\n",
       "\n",
       "    .dataframe tbody tr th {\n",
       "        vertical-align: top;\n",
       "    }\n",
       "\n",
       "    .dataframe thead th {\n",
       "        text-align: right;\n",
       "    }\n",
       "</style>\n",
       "<table border=\"1\" class=\"dataframe\">\n",
       "  <thead>\n",
       "    <tr style=\"text-align: right;\">\n",
       "      <th></th>\n",
       "      <th>sex</th>\n",
       "      <th>entry</th>\n",
       "      <th>exit</th>\n",
       "      <th>time</th>\n",
       "    </tr>\n",
       "    <tr>\n",
       "      <th>Unnamed: 0</th>\n",
       "      <th></th>\n",
       "      <th></th>\n",
       "      <th></th>\n",
       "      <th></th>\n",
       "    </tr>\n",
       "  </thead>\n",
       "  <tbody>\n",
       "    <tr>\n",
       "      <th>1</th>\n",
       "      <td>Male</td>\n",
       "      <td>782</td>\n",
       "      <td>909</td>\n",
       "      <td>127</td>\n",
       "    </tr>\n",
       "    <tr>\n",
       "      <th>2</th>\n",
       "      <td>Male</td>\n",
       "      <td>1020</td>\n",
       "      <td>1128</td>\n",
       "      <td>108</td>\n",
       "    </tr>\n",
       "    <tr>\n",
       "      <th>3</th>\n",
       "      <td>Male</td>\n",
       "      <td>856</td>\n",
       "      <td>969</td>\n",
       "      <td>113</td>\n",
       "    </tr>\n",
       "    <tr>\n",
       "      <th>4</th>\n",
       "      <td>Male</td>\n",
       "      <td>915</td>\n",
       "      <td>957</td>\n",
       "      <td>42</td>\n",
       "    </tr>\n",
       "    <tr>\n",
       "      <th>5</th>\n",
       "      <td>Male</td>\n",
       "      <td>863</td>\n",
       "      <td>983</td>\n",
       "      <td>120</td>\n",
       "    </tr>\n",
       "  </tbody>\n",
       "</table>\n",
       "</div>"
      ],
      "text/plain": [
       "             sex  entry  exit  time\n",
       "Unnamed: 0                         \n",
       "1           Male    782   909   127\n",
       "2           Male   1020  1128   108\n",
       "3           Male    856   969   113\n",
       "4           Male    915   957    42\n",
       "5           Male    863   983   120"
      ]
     },
     "execution_count": 56,
     "metadata": {},
     "output_type": "execute_result"
    }
   ],
   "source": [
    "to_drop= ['cens']\n",
    "data_csv_drop = data_csv.drop(to_drop, inplace= True, axis=1)\n",
    "data_csv.head()"
   ]
  },
  {
   "cell_type": "code",
   "execution_count": null,
   "metadata": {},
   "outputs": [],
   "source": []
  }
 ],
 "metadata": {
  "kernelspec": {
   "display_name": "Python [default]",
   "language": "python",
   "name": "python3"
  },
  "language_info": {
   "codemirror_mode": {
    "name": "ipython",
    "version": 3
   },
   "file_extension": ".py",
   "mimetype": "text/x-python",
   "name": "python",
   "nbconvert_exporter": "python",
   "pygments_lexer": "ipython3",
   "version": "3.5.5"
  }
 },
 "nbformat": 4,
 "nbformat_minor": 2
}
