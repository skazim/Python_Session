{
 "cells": [
  {
   "cell_type": "markdown",
   "metadata": {},
   "source": [
    "## Built-in Data Types"
   ]
  },
  {
   "cell_type": "markdown",
   "metadata": {},
   "source": [
    "### Mutables and Immutables Data types"
   ]
  },
  {
   "cell_type": "code",
   "execution_count": 20,
   "metadata": {},
   "outputs": [],
   "source": [
    "class Person:\n",
    "    def __init__(self, age):\n",
    "        self.age=age"
   ]
  },
  {
   "cell_type": "code",
   "execution_count": 21,
   "metadata": {},
   "outputs": [
    {
     "data": {
      "text/plain": [
       "43"
      ]
     },
     "execution_count": 21,
     "metadata": {},
     "output_type": "execute_result"
    }
   ],
   "source": [
    "fab = Person(age=43)\n",
    "fab.age"
   ]
  },
  {
   "cell_type": "code",
   "execution_count": 22,
   "metadata": {},
   "outputs": [
    {
     "name": "stdout",
     "output_type": "stream",
     "text": [
      "140188013693360 94271698494848\n"
     ]
    }
   ],
   "source": [
    "print(id(fab), id(fab.age))"
   ]
  },
  {
   "cell_type": "code",
   "execution_count": 23,
   "metadata": {},
   "outputs": [],
   "source": [
    "fab.age= 33"
   ]
  },
  {
   "cell_type": "code",
   "execution_count": 24,
   "metadata": {},
   "outputs": [
    {
     "name": "stdout",
     "output_type": "stream",
     "text": [
      "140188013693360 94271698494528\n"
     ]
    }
   ],
   "source": [
    "print(id(fab), id(fab.age))"
   ]
  },
  {
   "cell_type": "markdown",
   "metadata": {},
   "source": [
    "# Immutables Sequences\n",
    "## String and bytes\n"
   ]
  },
  {
   "cell_type": "code",
   "execution_count": 20,
   "metadata": {},
   "outputs": [
    {
     "name": "stdout",
     "output_type": "stream",
     "text": [
      "This_is_Python_Introduction_Session._Hello_my_name_is_Muhammad_Kazim\n",
      "This is Python Introduction Session. This is Second String written\n"
     ]
    }
   ],
   "source": [
    "# Example of String\n",
    "\n",
    "str1 = 'This_is_Python_Introduction_Session._Hello_my_name_is_Muhammad_Kazim'\n",
    "str2 = 'This is Python Introduction Session. This is Second String written'\n",
    "print(str1)\n",
    "print(str2)"
   ]
  },
  {
   "cell_type": "code",
   "execution_count": 21,
   "metadata": {},
   "outputs": [
    {
     "name": "stdout",
     "output_type": "stream",
     "text": [
      "T i\n",
      "This_i s_Python_Introduction_Session._Hello_my_name_is_Muhammad_Kazim\n"
     ]
    }
   ],
   "source": [
    "# Indexing and Slicing of Strings \n",
    "print(str1[0], str1[5])\n",
    "print(str1[:6],str1[6:]) # from index 0 to index 5 i.e 6 excluded, from 6 till the end"
   ]
  },
  {
   "cell_type": "code",
   "execution_count": 22,
   "metadata": {},
   "outputs": [
    {
     "name": "stdout",
     "output_type": "stream",
     "text": [
      "P\n",
      "_\n",
      "Python\n"
     ]
    }
   ],
   "source": [
    "print(str1[8])\n",
    "print(str1[14])\n",
    "print(str1[8:14])\n",
    "# from index 8 to index 13 i.e 14 not included"
   ]
  },
  {
   "cell_type": "code",
   "execution_count": 28,
   "metadata": {},
   "outputs": [
    {
     "name": "stdout",
     "output_type": "stream",
     "text": [
      "i _\n"
     ]
    },
    {
     "data": {
      "text/plain": [
       "'iiPh'"
      ]
     },
     "execution_count": 28,
     "metadata": {},
     "output_type": "execute_result"
    }
   ],
   "source": [
    "print(str1[2], str1[14])\n",
    "str1[2:14:3] # slicing, start, stop and step (every 3 chars) and index 14 not included"
   ]
  },
  {
   "cell_type": "markdown",
   "metadata": {},
   "source": [
    "### Tuples"
   ]
  },
  {
   "cell_type": "code",
   "execution_count": 42,
   "metadata": {},
   "outputs": [
    {
     "name": "stdout",
     "output_type": "stream",
     "text": [
      "<class 'tuple'>\n"
     ]
    }
   ],
   "source": [
    "#tuples is a sequence of arbitrarty Python objects \n",
    "t= ()\n",
    "print(type(t))\n",
    "\n",
    "t = (42,)"
   ]
  },
  {
   "cell_type": "code",
   "execution_count": 43,
   "metadata": {},
   "outputs": [
    {
     "name": "stdout",
     "output_type": "stream",
     "text": [
      "(42,)\n"
     ]
    }
   ],
   "source": [
    "print(t)"
   ]
  },
  {
   "cell_type": "code",
   "execution_count": 44,
   "metadata": {},
   "outputs": [],
   "source": [
    "a,b,c = 1,2,3"
   ]
  },
  {
   "cell_type": "code",
   "execution_count": 48,
   "metadata": {},
   "outputs": [
    {
     "data": {
      "text/plain": [
       "(1, 2, 3)"
      ]
     },
     "execution_count": 48,
     "metadata": {},
     "output_type": "execute_result"
    }
   ],
   "source": [
    "a,b,c"
   ]
  },
  {
   "cell_type": "code",
   "execution_count": 49,
   "metadata": {},
   "outputs": [
    {
     "data": {
      "text/plain": [
       "False"
      ]
     },
     "execution_count": 49,
     "metadata": {},
     "output_type": "execute_result"
    }
   ],
   "source": [
    "3 in t"
   ]
  },
  {
   "cell_type": "code",
   "execution_count": 60,
   "metadata": {},
   "outputs": [
    {
     "name": "stdout",
     "output_type": "stream",
     "text": [
      "(1, 2)\n",
      "(2, 1)\n"
     ]
    }
   ],
   "source": [
    "# one line swap\n",
    "a,b =1,2\n",
    "\n",
    "print((a,b))\n",
    "c =a \n",
    "a=b \n",
    "b=c\n",
    "print((a,b))"
   ]
  },
  {
   "cell_type": "code",
   "execution_count": 61,
   "metadata": {},
   "outputs": [
    {
     "name": "stdout",
     "output_type": "stream",
     "text": [
      "(1, 2)\n"
     ]
    }
   ],
   "source": [
    "a,b =1,2 \n",
    "print((a,b))"
   ]
  },
  {
   "cell_type": "code",
   "execution_count": 142,
   "metadata": {},
   "outputs": [
    {
     "name": "stdout",
     "output_type": "stream",
     "text": [
      "(1, 2)\n"
     ]
    }
   ],
   "source": [
    "a,b = b,a\n",
    "print((a,b))"
   ]
  },
  {
   "cell_type": "code",
   "execution_count": 143,
   "metadata": {},
   "outputs": [
    {
     "data": {
      "text/plain": [
       "tuple"
      ]
     },
     "execution_count": 143,
     "metadata": {},
     "output_type": "execute_result"
    }
   ],
   "source": [
    "type((a,b))"
   ]
  },
  {
   "cell_type": "markdown",
   "metadata": {},
   "source": [
    "# Mutables\n",
    "\n",
    "### Lists"
   ]
  },
  {
   "cell_type": "code",
   "execution_count": 214,
   "metadata": {},
   "outputs": [
    {
     "data": {
      "text/plain": [
       "list"
      ]
     },
     "execution_count": 214,
     "metadata": {},
     "output_type": "execute_result"
    }
   ],
   "source": [
    "t = []\n",
    "type(t)"
   ]
  },
  {
   "cell_type": "code",
   "execution_count": 215,
   "metadata": {},
   "outputs": [
    {
     "data": {
      "text/plain": [
       "list"
      ]
     },
     "execution_count": 215,
     "metadata": {},
     "output_type": "execute_result"
    }
   ],
   "source": [
    "t =list()\n",
    "type(t)"
   ]
  },
  {
   "cell_type": "code",
   "execution_count": 216,
   "metadata": {},
   "outputs": [],
   "source": [
    "t = [1,2,3]"
   ]
  },
  {
   "cell_type": "code",
   "execution_count": 217,
   "metadata": {},
   "outputs": [
    {
     "data": {
      "text/plain": [
       "[6, 7, 8]"
      ]
     },
     "execution_count": 217,
     "metadata": {},
     "output_type": "execute_result"
    }
   ],
   "source": [
    "#creating new list using already created list \n",
    "[x + 5 for x in t]"
   ]
  },
  {
   "cell_type": "code",
   "execution_count": 218,
   "metadata": {},
   "outputs": [],
   "source": [
    "t =list('hello World')"
   ]
  },
  {
   "cell_type": "code",
   "execution_count": 219,
   "metadata": {},
   "outputs": [
    {
     "name": "stdout",
     "output_type": "stream",
     "text": [
      "['h', 'e', 'l', 'l', 'o', ' ', 'W', 'o', 'r', 'l', 'd']\n"
     ]
    }
   ],
   "source": [
    "print(t)"
   ]
  },
  {
   "cell_type": "markdown",
   "metadata": {},
   "source": [
    "### Methods is List"
   ]
  },
  {
   "cell_type": "code",
   "execution_count": 220,
   "metadata": {},
   "outputs": [
    {
     "name": "stdout",
     "output_type": "stream",
     "text": [
      "['h', 'e', 'l', 'l', 'o', ' ', 'W', 'o', 'r', 'l', 'd', '.']\n"
     ]
    },
    {
     "data": {
      "text/plain": [
       "3"
      ]
     },
     "execution_count": 220,
     "metadata": {},
     "output_type": "execute_result"
    }
   ],
   "source": [
    "t.append('.')\n",
    "print(t)\n",
    "t.count('l')"
   ]
  },
  {
   "cell_type": "code",
   "execution_count": 221,
   "metadata": {},
   "outputs": [
    {
     "name": "stdout",
     "output_type": "stream",
     "text": [
      "['h', 'e', 'l', 'l', 'o', ' ', 'W', 'o', 'r', 'l', 'd', '.', 'T', 'h', 'i', 's', ' ', 'i', 's', ' ', 'M', 'u', 'h', 'a', 'm', 'm', 'a', 'd', ' ', 'K', 'a', 'Z', 'i', 'm']\n"
     ]
    }
   ],
   "source": [
    "str1= 'This is Muhammad KaZim'\n",
    "[t.append(x) for x in str1]\n",
    "print(t)"
   ]
  },
  {
   "cell_type": "code",
   "execution_count": 222,
   "metadata": {},
   "outputs": [],
   "source": [
    "#t.extend(['.','T','h','a','n','k','s'])\n",
    "t.extend('Thanks')"
   ]
  },
  {
   "cell_type": "code",
   "execution_count": 223,
   "metadata": {},
   "outputs": [
    {
     "name": "stdout",
     "output_type": "stream",
     "text": [
      "['h', 'e', 'l', 'l', 'o', ' ', 'W', 'o', 'r', 'l', 'd', '.', 'T', 'h', 'i', 's', ' ', 'i', 's', ' ', 'M', 'u', 'h', 'a', 'm', 'm', 'a', 'd', ' ', 'K', 'a', 'Z', 'i', 'm', 'T', 'h', 'a', 'n', 'k', 's']\n"
     ]
    }
   ],
   "source": [
    "print(t)"
   ]
  },
  {
   "cell_type": "code",
   "execution_count": 224,
   "metadata": {},
   "outputs": [],
   "source": [
    "# more methods\n",
    "# t.index('K') tells the position of K\n",
    "# t.insert(0,'M') inserts M at 0 position\n",
    "# t.pop() remove last element in the list\n",
    "# t.remove('K') removes K from List\n",
    "# t.reverse() reverse the list\n",
    "# t.sort() sorts the list\n",
    "# t.clear() empty the list"
   ]
  },
  {
   "cell_type": "code",
   "execution_count": 225,
   "metadata": {},
   "outputs": [
    {
     "name": "stdout",
     "output_type": "stream",
     "text": [
      "['h', 'e', 'l', 'l', 'o', ' ', 'W', 'o', 'r', 'l', 'd', '.', 'T', 'h', 'i', 's', ' ', 'i', 's', ' ', 'M', 'u', 'h', 'a', 'm', 'm', 'a', 'd', ' ', 'K', 'a', 'Z', 'i', 'm', 'T', 'h', 'a', 'n', 'k', 's', 100]\n"
     ]
    }
   ],
   "source": [
    "t.append(100)\n",
    "print(t)"
   ]
  },
  {
   "cell_type": "code",
   "execution_count": 226,
   "metadata": {},
   "outputs": [
    {
     "name": "stdout",
     "output_type": "stream",
     "text": [
      "['h', 'e', 'l', 'l', 'o', ' ', 'W', 'o', 'r', 'l', 'd', '.', 'T', 'h', 'i', 's', ' ', 'i', 's', ' ', 'M', 'u', 'h', 'a', 'm', 'm', 'a', 'd', ' ', 'K', 'a', 'Z', 'i', 'm', 'T', 'h', 'a', 'n', 'k', 's', 100, '...']\n",
      "['h', 'e', 'l', 'l', 'o', ' ', 'W', 'o', 'r', 'l', 'd', '.', 'T', 'h', 'i', 's', ' ', 'i', 's', ' ', 'M', 'u', 'h', 'a', 'm', 'm', 'a', 'd', ' ', 'K', 'a', 'Z', 'i', 'm', 'T', 'h', 'a', 'n', 'k', 's', 100, '...', '.', '.', '.']\n"
     ]
    }
   ],
   "source": [
    "# Difference in append and extend\n",
    "t.append('...')\n",
    "print(t)\n",
    "t.extend('...')\n",
    "print(t)"
   ]
  },
  {
   "cell_type": "code",
   "execution_count": 243,
   "metadata": {},
   "outputs": [],
   "source": [
    "a = list()"
   ]
  },
  {
   "cell_type": "code",
   "execution_count": 244,
   "metadata": {},
   "outputs": [],
   "source": [
    "a=(1,2,3,4,5,1,14,1)"
   ]
  },
  {
   "cell_type": "code",
   "execution_count": 245,
   "metadata": {},
   "outputs": [
    {
     "name": "stdout",
     "output_type": "stream",
     "text": [
      "(1, 2, 3, 4, 5, 1, 14, 1)\n"
     ]
    }
   ],
   "source": [
    "print(a)"
   ]
  },
  {
   "cell_type": "code",
   "execution_count": 246,
   "metadata": {},
   "outputs": [
    {
     "data": {
      "text/plain": [
       "3"
      ]
     },
     "execution_count": 246,
     "metadata": {},
     "output_type": "execute_result"
    }
   ],
   "source": [
    "a.count(1)"
   ]
  },
  {
   "cell_type": "code",
   "execution_count": 247,
   "metadata": {},
   "outputs": [
    {
     "data": {
      "text/plain": [
       "(1, 14, 31, 8)"
      ]
     },
     "execution_count": 247,
     "metadata": {},
     "output_type": "execute_result"
    }
   ],
   "source": [
    "min(a) , max(a), sum(a), len(a)"
   ]
  },
  {
   "cell_type": "code",
   "execution_count": 253,
   "metadata": {},
   "outputs": [
    {
     "data": {
      "text/plain": [
       "(1, 2, 3, 4, 5, 1, 14, 1, 4, 2, 12, 7, 2, 2, 2, 7)"
      ]
     },
     "execution_count": 253,
     "metadata": {},
     "output_type": "execute_result"
    }
   ],
   "source": [
    "b= (4,2,12,7,2,2,2,7)\n",
    "# concatenation of list\n",
    "a + b"
   ]
  },
  {
   "cell_type": "code",
   "execution_count": 259,
   "metadata": {},
   "outputs": [
    {
     "name": "stdout",
     "output_type": "stream",
     "text": [
      "<class 'list'>\n",
      "<class 'tuple'>\n"
     ]
    }
   ],
   "source": [
    "tuple_example =[1212,123,123,123]\n",
    "print(type(tuple_example))\n",
    "\n",
    "tuple_example =(1212,123,123,123)\n",
    "print(type(tuple_example))"
   ]
  },
  {
   "cell_type": "markdown",
   "metadata": {},
   "source": [
    "### Sets and its type\n",
    "#### Two types of Set. One is Set (itself) and the other is Frozen Set \n",
    "#### Set type is mutable while the frozenset type is immutable\n",
    "#### Remember mutable means changeable and Immutables means not changeable"
   ]
  },
  {
   "cell_type": "code",
   "execution_count": 276,
   "metadata": {},
   "outputs": [
    {
     "name": "stdout",
     "output_type": "stream",
     "text": [
      "<class 'set'>\n"
     ]
    }
   ],
   "source": [
    "set_example = set()\n",
    "print(type(set_example))"
   ]
  },
  {
   "cell_type": "code",
   "execution_count": 277,
   "metadata": {},
   "outputs": [
    {
     "name": "stdout",
     "output_type": "stream",
     "text": [
      "{2, 3, 5}\n"
     ]
    }
   ],
   "source": [
    "# adding elements in set one at a time\n",
    "set_example.add(2)\n",
    "set_example.add(3)\n",
    "set_example.add(5)\n",
    "set_example.add(3) # 3 is added again, duplicate entry in set is not allowed\n",
    "print(set_example)"
   ]
  },
  {
   "cell_type": "code",
   "execution_count": 278,
   "metadata": {},
   "outputs": [
    {
     "name": "stdout",
     "output_type": "stream",
     "text": [
      "<class 'set'> {1, 4, 5, 6}\n"
     ]
    }
   ],
   "source": [
    "# other way to add elements in set is\n",
    "other_example = set([1,4,5,6])\n",
    "print(type(other_example), other_example)"
   ]
  },
  {
   "cell_type": "code",
   "execution_count": 286,
   "metadata": {},
   "outputs": [
    {
     "name": "stdout",
     "output_type": "stream",
     "text": [
      "{2, 5}\n",
      "{2, 3, 5}\n"
     ]
    }
   ],
   "source": [
    "set_example.remove(3)\n",
    "print(set_example)\n",
    "set_example.add(3)\n",
    "print(set_example)"
   ]
  },
  {
   "cell_type": "code",
   "execution_count": 290,
   "metadata": {},
   "outputs": [
    {
     "name": "stdout",
     "output_type": "stream",
     "text": [
      "{2, 3, 5} {1, 4, 5, 6}\n",
      "{1, 2, 3, 4, 5, 6}\n",
      "{5}\n",
      "{2, 3}\n"
     ]
    }
   ],
   "source": [
    "print(set_example, other_example)\n",
    "print(set_example | other_example) # union operator `|`\n",
    "print(set_example & other_example) # intersection operator `&`\n",
    "print( set_example - other_example) # difference operator `-`"
   ]
  },
  {
   "cell_type": "code",
   "execution_count": 292,
   "metadata": {},
   "outputs": [
    {
     "data": {
      "text/plain": [
       "(frozenset({2, 3, 4, 5, 6}), frozenset({4, 5, 7, 8, 9}))"
      ]
     },
     "execution_count": 292,
     "metadata": {},
     "output_type": "execute_result"
    }
   ],
   "source": [
    "# Now immutable frozensets example\n",
    "a = frozenset([2,3,4,5,6])\n",
    "b= frozenset([7,8,9,5,4])\n",
    "a, b"
   ]
  },
  {
   "cell_type": "code",
   "execution_count": 294,
   "metadata": {},
   "outputs": [],
   "source": [
    "# we cannot added, remove from frozensets\n",
    "# since frozenset are immutables"
   ]
  },
  {
   "cell_type": "code",
   "execution_count": 296,
   "metadata": {},
   "outputs": [
    {
     "name": "stdout",
     "output_type": "stream",
     "text": [
      "frozenset({2, 3, 4, 5, 6, 7, 8, 9})\n",
      "frozenset({4, 5})\n",
      "frozenset({2, 3, 6})\n"
     ]
    }
   ],
   "source": [
    "print(a | b) # union operation is allowed\n",
    "print(a& b) # intesection operation is allowed\n",
    "print(a-b) # difference operation is allowed"
   ]
  },
  {
   "cell_type": "markdown",
   "metadata": {},
   "source": [
    "# Dictionaries "
   ]
  },
  {
   "cell_type": "code",
   "execution_count": 14,
   "metadata": {},
   "outputs": [
    {
     "name": "stdout",
     "output_type": "stream",
     "text": [
      "Are they all same?\n",
      "Yes\n"
     ]
    }
   ],
   "source": [
    "a = dict(A=1, Z=-1)\n",
    "b = {'A': 1, 'Z': -1}\n",
    "c = dict(zip(['A', 'Z'], [1, -1]))\n",
    "d = dict([('A', 1), ('Z', -1)])\n",
    "e = dict({'Z': -1, 'A': 1})\n",
    "print(\"Are they all same?\")\n",
    "print(\"Yes\") if a == b == c == d == e else print(\"No\")"
   ]
  },
  {
   "cell_type": "code",
   "execution_count": 18,
   "metadata": {},
   "outputs": [],
   "source": [
    "# zip method in python\n",
    "# zip method glues together two things taking one element from each at a time\n",
    "a= list(zip(['h', 'e', 'l', 'l', 'o'], [1, 2, 3, 4, 5])) # zip returns an iterator not a list."
   ]
  },
  {
   "cell_type": "code",
   "execution_count": 19,
   "metadata": {},
   "outputs": [
    {
     "name": "stdout",
     "output_type": "stream",
     "text": [
      "<class 'list'>\n"
     ]
    }
   ],
   "source": [
    "print (type(a))"
   ]
  },
  {
   "cell_type": "code",
   "execution_count": 29,
   "metadata": {},
   "outputs": [
    {
     "name": "stdout",
     "output_type": "stream",
     "text": [
      "[('h', 0), ('e', 1), ('l', 2), ('l', 3), ('o', 4)]\n",
      "{'l': 3, 'h': 0, 'e': 1, 'o': 4}\n"
     ]
    }
   ],
   "source": [
    "print(list(zip('hello', range(5))))\n",
    "print(dict(zip('hello', range(5))))"
   ]
  },
  {
   "cell_type": "code",
   "execution_count": 30,
   "metadata": {},
   "outputs": [
    {
     "name": "stdout",
     "output_type": "stream",
     "text": [
      "{'b': 2, 'a': 1}\n"
     ]
    }
   ],
   "source": [
    "d={}\n",
    "d['a'] =1 \n",
    "d['b']=2\n",
    "print(d)"
   ]
  },
  {
   "cell_type": "code",
   "execution_count": 31,
   "metadata": {},
   "outputs": [
    {
     "name": "stdout",
     "output_type": "stream",
     "text": [
      "{'l': 3, 'h': 0, 'e': 1, 'o': 4}\n"
     ]
    },
    {
     "data": {
      "text/plain": [
       "(dict_keys(['l', 'h', 'e', 'o']), dict_values([3, 0, 1, 4]))"
      ]
     },
     "execution_count": 31,
     "metadata": {},
     "output_type": "execute_result"
    }
   ],
   "source": [
    "# dictionaries has keys and values\n",
    "a= dict(zip('hello', range(5)))\n",
    "print(a)\n",
    "a.keys(), a.values()"
   ]
  },
  {
   "cell_type": "code",
   "execution_count": 35,
   "metadata": {},
   "outputs": [
    {
     "data": {
      "text/plain": [
       "True"
      ]
     },
     "execution_count": 35,
     "metadata": {},
     "output_type": "execute_result"
    }
   ],
   "source": [
    "('o', 4) in a # False\n",
    "('o', 4) in a.items()  # True"
   ]
  },
  {
   "cell_type": "code",
   "execution_count": 36,
   "metadata": {},
   "outputs": [
    {
     "data": {
      "text/plain": [
       "0"
      ]
     },
     "execution_count": 36,
     "metadata": {},
     "output_type": "execute_result"
    }
   ],
   "source": [
    "# Some methods in Dictionaries\n",
    "# a.popitem()\n",
    "# a.pop()\n",
    "# a.update({'another': 'value'}) # we can update dict this way \n",
    "# a.update(a=13) # or this way (like a function call)\n",
    "a.get('h')"
   ]
  },
  {
   "cell_type": "code",
   "execution_count": 43,
   "metadata": {},
   "outputs": [
    {
     "name": "stdout",
     "output_type": "stream",
     "text": [
      "<class 'dict'>\n"
     ]
    }
   ],
   "source": [
    "new_dict = {}\n",
    "\n",
    "print(type(new_dict))\n",
    "\n",
    "new_dict['a']=2"
   ]
  },
  {
   "cell_type": "code",
   "execution_count": 44,
   "metadata": {},
   "outputs": [
    {
     "data": {
      "text/plain": [
       "2"
      ]
     },
     "execution_count": 44,
     "metadata": {},
     "output_type": "execute_result"
    }
   ],
   "source": [
    "new_dict.setdefault('a',1) # setdefault works when no key is found, returns default value"
   ]
  },
  {
   "cell_type": "code",
   "execution_count": 46,
   "metadata": {},
   "outputs": [],
   "source": [
    "new ={}\n",
    "new.setdefault('a', {}).setdefault('b', []).append(1)"
   ]
  },
  {
   "cell_type": "code",
   "execution_count": 47,
   "metadata": {},
   "outputs": [
    {
     "data": {
      "text/plain": [
       "{'a': {'b': [1]}}"
      ]
     },
     "execution_count": 47,
     "metadata": {},
     "output_type": "execute_result"
    }
   ],
   "source": [
    "new\n"
   ]
  },
  {
   "cell_type": "code",
   "execution_count": null,
   "metadata": {},
   "outputs": [],
   "source": []
  }
 ],
 "metadata": {
  "kernelspec": {
   "display_name": "Python [default]",
   "language": "python",
   "name": "python3"
  },
  "language_info": {
   "codemirror_mode": {
    "name": "ipython",
    "version": 3
   },
   "file_extension": ".py",
   "mimetype": "text/x-python",
   "name": "python",
   "nbconvert_exporter": "python",
   "pygments_lexer": "ipython3",
   "version": "3.5.5"
  }
 },
 "nbformat": 4,
 "nbformat_minor": 2
}
