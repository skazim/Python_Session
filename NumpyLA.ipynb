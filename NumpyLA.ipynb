{
 "cells": [
  {
   "cell_type": "markdown",
   "metadata": {},
   "source": [
    "## Linear Algebra"
   ]
  },
  {
   "cell_type": "code",
   "execution_count": null,
   "metadata": {},
   "outputs": [],
   "source": [
    "import numpy as np"
   ]
  },
  {
   "cell_type": "markdown",
   "metadata": {},
   "source": [
    "#### Using numpy.matrix"
   ]
  },
  {
   "cell_type": "code",
   "execution_count": 28,
   "metadata": {},
   "outputs": [
    {
     "name": "stdout",
     "output_type": "stream",
     "text": [
      "(3, 3) <class 'numpy.matrixlib.defmatrix.matrix'> (3, 1) <class 'numpy.matrixlib.defmatrix.matrix'>\n"
     ]
    }
   ],
   "source": [
    "\n",
    "\n",
    "# solving Matrices using numpy \n",
    "# 3x + 6y - 5z= 12\n",
    "# x − 3y + 2z = −2\n",
    "# 5x − y + 4z = 10\n",
    "# Ax = B\n",
    "# Solving x = A(inverse) B\n",
    "a = np.matrix([\n",
    "    [3, 6, -5],\n",
    "    [1, -3, 2],\n",
    "    [5, -1, 4]\n",
    "])\n",
    "\n",
    "b= np.matrix([\n",
    "    [12],\n",
    "    [-2],\n",
    "    [10]\n",
    "])\n",
    "print(a.shape,type(a), b.shape,type(b))"
   ]
  },
  {
   "cell_type": "code",
   "execution_count": 23,
   "metadata": {},
   "outputs": [
    {
     "name": "stdout",
     "output_type": "stream",
     "text": [
      "[[ 3  6 -5]\n",
      " [ 1 -3  2]\n",
      " [ 5 -1  4]]\n",
      "[[12]\n",
      " [-2]\n",
      " [10]]\n",
      "[[1.75]\n",
      " [1.75]\n",
      " [0.75]]\n",
      "****** Verifying Answer as AX = B\n",
      "[[12.]\n",
      " [-2.]\n",
      " [10.]]\n"
     ]
    }
   ],
   "source": [
    "ans = a ** (-1) * b\n",
    "print(a)\n",
    "print(b)\n",
    "print(ans)\n",
    "print(\"****** Verifying Answer as AX = B\")\n",
    "print (a* ans)"
   ]
  },
  {
   "cell_type": "markdown",
   "metadata": {},
   "source": [
    "### using nump.array"
   ]
  },
  {
   "cell_type": "code",
   "execution_count": 24,
   "metadata": {},
   "outputs": [],
   "source": [
    "a = np.array([\n",
    "    [3, 6, -5],\n",
    "    [1, -3, 2],\n",
    "    [5, -1, 4]\n",
    "])\n",
    "\n",
    "b= np.array([\n",
    "    [12],\n",
    "    [-2],\n",
    "    [10]\n",
    "])"
   ]
  },
  {
   "cell_type": "code",
   "execution_count": 25,
   "metadata": {},
   "outputs": [
    {
     "name": "stdout",
     "output_type": "stream",
     "text": [
      "[[1.75]\n",
      " [1.75]\n",
      " [0.75]]\n"
     ]
    }
   ],
   "source": [
    "ans = np.linalg.inv(a).dot(b)\n",
    "print(ans)"
   ]
  },
  {
   "cell_type": "code",
   "execution_count": 1,
   "metadata": {},
   "outputs": [
    {
     "name": "stdout",
     "output_type": "stream",
     "text": [
      "CPU times: user 4 ms, sys: 0 ns, total: 4 ms\n",
      "Wall time: 24.8 ms\n"
     ]
    }
   ],
   "source": [
    "import numpy as np \n",
    "arr= np.arange(100000)\n",
    "my_list = list(range(100000))\n",
    "%time for _ in range(10) : arr2= arr * 2"
   ]
  },
  {
   "cell_type": "code",
   "execution_count": 2,
   "metadata": {},
   "outputs": [
    {
     "name": "stdout",
     "output_type": "stream",
     "text": [
      "CPU times: user 76 ms, sys: 8 ms, total: 84 ms\n",
      "Wall time: 82.9 ms\n"
     ]
    }
   ],
   "source": [
    "%time for _ in range(10): my_list2 = [x * 2 for x in my_list]"
   ]
  },
  {
   "cell_type": "code",
   "execution_count": null,
   "metadata": {},
   "outputs": [],
   "source": []
  }
 ],
 "metadata": {
  "kernelspec": {
   "display_name": "Python [default]",
   "language": "python",
   "name": "python3"
  },
  "language_info": {
   "codemirror_mode": {
    "name": "ipython",
    "version": 3
   },
   "file_extension": ".py",
   "mimetype": "text/x-python",
   "name": "python",
   "nbconvert_exporter": "python",
   "pygments_lexer": "ipython3",
   "version": "3.5.5"
  }
 },
 "nbformat": 4,
 "nbformat_minor": 2
}
