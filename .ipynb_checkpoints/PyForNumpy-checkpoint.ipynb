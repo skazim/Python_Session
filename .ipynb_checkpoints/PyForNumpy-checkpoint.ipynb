{
 "cells": [
  {
   "cell_type": "markdown",
   "metadata": {},
   "source": [
    "## Learning Numpy\n",
    "#### scientific programming include arrays, matrices, interation, differential equations, statistics etc"
   ]
  },
  {
   "cell_type": "code",
   "execution_count": 1,
   "metadata": {},
   "outputs": [
    {
     "name": "stdout",
     "output_type": "stream",
     "text": [
      "1.14.5\n"
     ]
    }
   ],
   "source": [
    "import numpy as np\n",
    "print(np.version.full_version)"
   ]
  },
  {
   "cell_type": "markdown",
   "metadata": {},
   "source": [
    "#### For N-dimentional arrays"
   ]
  },
  {
   "cell_type": "code",
   "execution_count": 23,
   "metadata": {},
   "outputs": [
    {
     "name": "stdout",
     "output_type": "stream",
     "text": [
      "[1 2 3]\n",
      "[0. 0. 0. 0. 0.]\n",
      "[ 0  1  2  3  4  5  6  7  8  9 10 11 12 13 14 15 16 17 18 19 20 21 22 23\n",
      " 24 25 26 27 28 29 30 31 32 33 34 35 36 37 38 39 40 41 42 43 44 45 46 47\n",
      " 48 49 50 51 52 53 54 55 56 57 58 59 60 61 62 63 64 65 66 67 68 69 70 71\n",
      " 72 73 74 75 76 77 78 79 80 81 82 83 84 85 86 87 88 89 90 91 92 93 94 95\n",
      " 96 97 98 99]\n",
      "[10 11 12 13 14 15 16 17 18 19 20 21 22 23 24 25 26 27 28 29 30 31 32 33\n",
      " 34 35 36 37 38 39 40 41 42 43 44 45 46 47 48 49 50 51 52 53 54 55 56 57\n",
      " 58 59 60 61 62 63 64 65 66 67 68 69 70 71 72 73 74 75 76 77 78 79 80 81\n",
      " 82 83 84 85 86 87 88 89 90 91 92 93 94 95 96 97 98 99]\n"
     ]
    }
   ],
   "source": [
    "# Matrix in numpy will only be two dimentional\n",
    "# Many ways to create a numpy array\n",
    "aList = [1,2,3]\n",
    "arr=np.array(aList)\n",
    "print(arr)\n",
    "arr= np.zeros(5)\n",
    "print(arr)\n",
    "arr=np.arange(100)\n",
    "print(arr)\n",
    "arr=np.arange(10,100)\n",
    "print(arr)"
   ]
  },
  {
   "cell_type": "code",
   "execution_count": 3,
   "metadata": {},
   "outputs": [
    {
     "name": "stdout",
     "output_type": "stream",
     "text": [
      "[[0. 0. 0. 0. 0.]\n",
      " [0. 0. 0. 0. 0.]\n",
      " [0. 0. 0. 0. 0.]\n",
      " [0. 0. 0. 0. 0.]\n",
      " [0. 0. 0. 0. 0.]]\n"
     ]
    }
   ],
   "source": [
    "image=np.zeros((5,5))\n",
    "print(image)"
   ]
  },
  {
   "cell_type": "code",
   "execution_count": 4,
   "metadata": {},
   "outputs": [
    {
     "name": "stdout",
     "output_type": "stream",
     "text": [
      "[0 0]\n",
      "[0. 0.]\n"
     ]
    }
   ],
   "source": [
    "arr= np.zeros(2, dtype= int)\n",
    "print(arr)\n",
    "arr = np.zeros(2, dtype=np.float32)\n",
    "print(arr)"
   ]
  },
  {
   "cell_type": "code",
   "execution_count": 5,
   "metadata": {},
   "outputs": [
    {
     "name": "stdout",
     "output_type": "stream",
     "text": [
      "[[[  0   1   2   3   4]\n",
      "  [  5   6   7   8   9]\n",
      "  [ 10  11  12  13  14]\n",
      "  [ 15  16  17  18  19]\n",
      "  [ 20  21  22  23  24]]\n",
      "\n",
      " [[ 25  26  27  28  29]\n",
      "  [ 30  31  32  33  34]\n",
      "  [ 35  36  37  38  39]\n",
      "  [ 40  41  42  43  44]\n",
      "  [ 45  46  47  48  49]]\n",
      "\n",
      " [[ 50  51  52  53  54]\n",
      "  [ 55  56  57  58  59]\n",
      "  [ 60  61  62  63  64]\n",
      "  [ 65  66  67  68  69]\n",
      "  [ 70  71  72  73  74]]\n",
      "\n",
      " [[ 75  76  77  78  79]\n",
      "  [ 80  81  82  83  84]\n",
      "  [ 85  86  87  88  89]\n",
      "  [ 90  91  92  93  94]\n",
      "  [ 95  96  97  98  99]]\n",
      "\n",
      " [[100 101 102 103 104]\n",
      "  [105 106 107 108 109]\n",
      "  [110 111 112 113 114]\n",
      "  [115 116 117 118 119]\n",
      "  [120 121 122 123 124]]]\n"
     ]
    }
   ],
   "source": [
    "# reshaping array in numpy\n",
    "# Suppose we have 25 element array\n",
    "\n",
    "arr= np.arange(125)\n",
    "arr3d = np.reshape(arr,(5,5,5))\n",
    "print(arr3d)"
   ]
  },
  {
   "cell_type": "code",
   "execution_count": 6,
   "metadata": {},
   "outputs": [
    {
     "name": "stdout",
     "output_type": "stream",
     "text": [
      "(125,)\n"
     ]
    }
   ],
   "source": [
    "arr4d= np.zeros((5,5,5))\n",
    "arr1d= np.ravel(arr4d)\n",
    "print(arr1d.shape)"
   ]
  },
  {
   "cell_type": "code",
   "execution_count": 46,
   "metadata": {},
   "outputs": [
    {
     "name": "stdout",
     "output_type": "stream",
     "text": [
      "[[3. 3. 3. 3. 3. 3.]\n",
      " [3. 6. 6. 6. 6. 3.]\n",
      " [3. 6. 9. 9. 6. 3.]\n",
      " [3. 6. 9. 9. 6. 3.]\n",
      " [3. 6. 6. 6. 6. 3.]\n",
      " [3. 3. 3. 3. 3. 3.]]\n"
     ]
    }
   ],
   "source": [
    "\n",
    "# working on Image\n",
    "\n",
    "img1 = np.zeros((6,6))+ 3\n",
    "img1[1:-1, 1:-1] = 6\n",
    "img1[2:-2, 2:-2] = 9\n",
    "print(img1)"
   ]
  },
  {
   "cell_type": "code",
   "execution_count": null,
   "metadata": {},
   "outputs": [],
   "source": []
  },
  {
   "cell_type": "code",
   "execution_count": 41,
   "metadata": {},
   "outputs": [
    {
     "name": "stdout",
     "output_type": "stream",
     "text": [
      "[[3. 3. 3. 3. 3. 3. 3. 3. 3. 3. 3. 3. 3. 3. 3. 3. 3. 3. 3. 3.]\n",
      " [3. 3. 3. 3. 3. 3. 3. 3. 3. 3. 3. 3. 3. 3. 3. 3. 3. 3. 3. 3.]\n",
      " [3. 3. 3. 3. 3. 3. 3. 3. 3. 3. 3. 3. 3. 3. 3. 3. 3. 3. 3. 3.]\n",
      " [3. 3. 3. 3. 3. 3. 3. 3. 3. 3. 3. 3. 3. 3. 3. 3. 3. 3. 3. 3.]\n",
      " [3. 3. 3. 3. 0. 0. 0. 0. 0. 0. 0. 0. 0. 0. 0. 0. 3. 3. 3. 3.]\n",
      " [3. 3. 3. 3. 0. 0. 0. 0. 0. 0. 0. 0. 0. 0. 0. 0. 3. 3. 3. 3.]\n",
      " [3. 3. 3. 3. 0. 0. 0. 0. 0. 0. 0. 0. 0. 0. 0. 0. 3. 3. 3. 3.]\n",
      " [3. 3. 3. 3. 0. 0. 0. 9. 9. 9. 9. 9. 9. 0. 0. 0. 3. 3. 3. 3.]\n",
      " [3. 3. 3. 3. 0. 0. 0. 9. 9. 9. 9. 9. 9. 0. 0. 0. 3. 3. 3. 3.]\n",
      " [3. 3. 3. 3. 0. 0. 0. 9. 9. 9. 9. 9. 9. 0. 0. 0. 3. 3. 3. 3.]\n",
      " [3. 3. 3. 3. 0. 0. 0. 9. 9. 9. 9. 9. 9. 0. 0. 0. 3. 3. 3. 3.]\n",
      " [3. 3. 3. 3. 0. 0. 0. 9. 9. 9. 9. 9. 9. 0. 0. 0. 3. 3. 3. 3.]\n",
      " [3. 3. 3. 3. 0. 0. 0. 9. 9. 9. 9. 9. 9. 0. 0. 0. 3. 3. 3. 3.]\n",
      " [3. 3. 3. 3. 0. 0. 0. 0. 0. 0. 0. 0. 0. 0. 0. 0. 3. 3. 3. 3.]\n",
      " [3. 3. 3. 3. 0. 0. 0. 0. 0. 0. 0. 0. 0. 0. 0. 0. 3. 3. 3. 3.]\n",
      " [3. 3. 3. 3. 0. 0. 0. 0. 0. 0. 0. 0. 0. 0. 0. 0. 3. 3. 3. 3.]\n",
      " [3. 3. 3. 3. 3. 3. 3. 3. 3. 3. 3. 3. 3. 3. 3. 3. 3. 3. 3. 3.]\n",
      " [3. 3. 3. 3. 3. 3. 3. 3. 3. 3. 3. 3. 3. 3. 3. 3. 3. 3. 3. 3.]\n",
      " [3. 3. 3. 3. 3. 3. 3. 3. 3. 3. 3. 3. 3. 3. 3. 3. 3. 3. 3. 3.]\n",
      " [3. 3. 3. 3. 3. 3. 3. 3. 3. 3. 3. 3. 3. 3. 3. 3. 3. 3. 3. 3.]]\n"
     ]
    }
   ],
   "source": [
    "# index1 = img1 > 2\n",
    "# index2 = img1 < 6\n",
    "# compound_index = index1 & index2\n",
    "compound_index = (img1 > 3) & (img1 < 7)\n",
    "img2 = np.copy(img1)\n",
    "img2[compound_index] = 0\n",
    "print(img2)"
   ]
  },
  {
   "cell_type": "code",
   "execution_count": 16,
   "metadata": {},
   "outputs": [],
   "source": [
    "index3 = img1 == 9\n",
    "index4 = (index1 & index2) | index3\n",
    "img3 = np.copy(img1)\n",
    "img3[index4] = 0\n"
   ]
  },
  {
   "cell_type": "code",
   "execution_count": 17,
   "metadata": {},
   "outputs": [
    {
     "name": "stdout",
     "output_type": "stream",
     "text": [
      "[[0. 0. 0. 0. 0. 0. 0. 0. 0. 0. 0. 0. 0. 0. 0. 0. 0. 0. 0. 0.]\n",
      " [0. 0. 0. 0. 0. 0. 0. 0. 0. 0. 0. 0. 0. 0. 0. 0. 0. 0. 0. 0.]\n",
      " [0. 0. 0. 0. 0. 0. 0. 0. 0. 0. 0. 0. 0. 0. 0. 0. 0. 0. 0. 0.]\n",
      " [0. 0. 0. 0. 0. 0. 0. 0. 0. 0. 0. 0. 0. 0. 0. 0. 0. 0. 0. 0.]\n",
      " [0. 0. 0. 0. 6. 6. 6. 6. 6. 6. 6. 6. 6. 6. 6. 6. 0. 0. 0. 0.]\n",
      " [0. 0. 0. 0. 6. 6. 6. 6. 6. 6. 6. 6. 6. 6. 6. 6. 0. 0. 0. 0.]\n",
      " [0. 0. 0. 0. 6. 6. 6. 6. 6. 6. 6. 6. 6. 6. 6. 6. 0. 0. 0. 0.]\n",
      " [0. 0. 0. 0. 6. 6. 6. 0. 0. 0. 0. 0. 0. 6. 6. 6. 0. 0. 0. 0.]\n",
      " [0. 0. 0. 0. 6. 6. 6. 0. 0. 0. 0. 0. 0. 6. 6. 6. 0. 0. 0. 0.]\n",
      " [0. 0. 0. 0. 6. 6. 6. 0. 0. 0. 0. 0. 0. 6. 6. 6. 0. 0. 0. 0.]\n",
      " [0. 0. 0. 0. 6. 6. 6. 0. 0. 0. 0. 0. 0. 6. 6. 6. 0. 0. 0. 0.]\n",
      " [0. 0. 0. 0. 6. 6. 6. 0. 0. 0. 0. 0. 0. 6. 6. 6. 0. 0. 0. 0.]\n",
      " [0. 0. 0. 0. 6. 6. 6. 0. 0. 0. 0. 0. 0. 6. 6. 6. 0. 0. 0. 0.]\n",
      " [0. 0. 0. 0. 6. 6. 6. 6. 6. 6. 6. 6. 6. 6. 6. 6. 0. 0. 0. 0.]\n",
      " [0. 0. 0. 0. 6. 6. 6. 6. 6. 6. 6. 6. 6. 6. 6. 6. 0. 0. 0. 0.]\n",
      " [0. 0. 0. 0. 6. 6. 6. 6. 6. 6. 6. 6. 6. 6. 6. 6. 0. 0. 0. 0.]\n",
      " [0. 0. 0. 0. 0. 0. 0. 0. 0. 0. 0. 0. 0. 0. 0. 0. 0. 0. 0. 0.]\n",
      " [0. 0. 0. 0. 0. 0. 0. 0. 0. 0. 0. 0. 0. 0. 0. 0. 0. 0. 0. 0.]\n",
      " [0. 0. 0. 0. 0. 0. 0. 0. 0. 0. 0. 0. 0. 0. 0. 0. 0. 0. 0. 0.]\n",
      " [0. 0. 0. 0. 0. 0. 0. 0. 0. 0. 0. 0. 0. 0. 0. 0. 0. 0. 0. 0.]]\n"
     ]
    }
   ],
   "source": [
    "print(img3)"
   ]
  },
  {
   "cell_type": "code",
   "execution_count": 66,
   "metadata": {},
   "outputs": [
    {
     "name": "stdout",
     "output_type": "stream",
     "text": [
      "[[3. 3. 3. 3. 3. 3.]\n",
      " [3. 6. 6. 6. 6. 3.]\n",
      " [3. 6. 9. 9. 6. 3.]\n",
      " [3. 6. 9. 9. 6. 3.]\n",
      " [3. 6. 6. 6. 6. 3.]\n",
      " [3. 3. 3. 3. 3. 3.]]\n",
      "[[3. 3. 3. 3. 3. 3.]\n",
      " [3. 0. 0. 0. 0. 3.]\n",
      " [3. 0. 9. 9. 0. 3.]\n",
      " [3. 0. 9. 9. 0. 3.]\n",
      " [3. 0. 0. 0. 0. 3.]\n",
      " [3. 3. 3. 3. 3. 3.]]\n"
     ]
    }
   ],
   "source": [
    "img1 = np.zeros((6,6)) + 3\n",
    "img1[1:-1, 1:-1]=6\n",
    "img1[2:-2 , 2:-2] = 9\n",
    "print(img1)\n",
    "index1 = img1 > 3 \n",
    "index2= img1 < 7\n",
    "compound_index= index1 & index2\n",
    "img2 = np.copy(img1)\n",
    "img2[compound_index] = 0\n",
    "print(img2)"
   ]
  },
  {
   "cell_type": "code",
   "execution_count": 65,
   "metadata": {},
   "outputs": [
    {
     "name": "stdout",
     "output_type": "stream",
     "text": [
      "[[3. 3. 3. 3. 3. 3.]\n",
      " [3. 6. 6. 6. 6. 3.]\n",
      " [3. 6. 0. 0. 6. 3.]\n",
      " [3. 6. 0. 0. 6. 3.]\n",
      " [3. 6. 6. 6. 6. 3.]\n",
      " [3. 3. 3. 3. 3. 3.]]\n"
     ]
    }
   ],
   "source": [
    "img3= np.copy(img2)\n",
    "compound_index= (img2>6) & (img2<10)\n",
    "img3[compound_index] =0\n",
    "print(img3)"
   ]
  },
  {
   "cell_type": "code",
   "execution_count": null,
   "metadata": {},
   "outputs": [],
   "source": []
  },
  {
   "cell_type": "code",
   "execution_count": null,
   "metadata": {},
   "outputs": [],
   "source": []
  },
  {
   "cell_type": "code",
   "execution_count": null,
   "metadata": {},
   "outputs": [],
   "source": []
  },
  {
   "cell_type": "code",
   "execution_count": null,
   "metadata": {},
   "outputs": [],
   "source": []
  }
 ],
 "metadata": {
  "kernelspec": {
   "display_name": "Python [default]",
   "language": "python",
   "name": "python3"
  },
  "language_info": {
   "codemirror_mode": {
    "name": "ipython",
    "version": 3
   },
   "file_extension": ".py",
   "mimetype": "text/x-python",
   "name": "python",
   "nbconvert_exporter": "python",
   "pygments_lexer": "ipython3",
   "version": "3.5.5"
  }
 },
 "nbformat": 4,
 "nbformat_minor": 2
}
