{
 "cells": [
  {
   "cell_type": "code",
   "execution_count": 15,
   "metadata": {},
   "outputs": [
    {
     "name": "stdout",
     "output_type": "stream",
     "text": [
      "     Col1 Col2\n",
      "Row1    1    2\n",
      "Row2    3    4 (2, 2)\n"
     ]
    }
   ],
   "source": [
    "import pandas as pd\n",
    "import numpy as np\n",
    "\n",
    "data = np.array([\n",
    "    ['','Col1', 'Col2'],\n",
    "    ['Row1', 1, 2],\n",
    "    ['Row2', 3,4]\n",
    "])\n",
    "# print(data[1:,0:])\n",
    "\n",
    "# data[row,col] means all rows all columns\n",
    "# data[0:,0:] all rows all columns\n",
    "# data[1:, 1:] from row 1 and col 1 to all rows columns\n",
    "# data[1:, 0] means row 1 row 2 but only column 0 \n",
    "df = pd.DataFrame(data= data[1:,1:], index=data[1:, 0], columns=data[0,1:])\n",
    "print(df, df.shape)"
   ]
  },
  {
   "cell_type": "code",
   "execution_count": 18,
   "metadata": {},
   "outputs": [
    {
     "name": "stdout",
     "output_type": "stream",
     "text": [
      "  Condition:    Group  Subject ID  Trails\n",
      "0     Affect  Control           1       1\n",
      "1     Affect  Control           1       2\n",
      "2     Affect  Control           1       3\n",
      "3     Affect  Control           1       4\n",
      "4    Neutral  Control           1       5\n",
      "5    Neutral  Control           1       6\n"
     ]
    }
   ],
   "source": [
    "# lets create real data using numpy and pandas \n",
    "\n",
    "import pandas as pd\n",
    "import numpy as np\n",
    "trails = [1,2,3,4,5,6]\n",
    "sub_id = [1]*6\n",
    "group = ['Control']*6\n",
    "condition = ['Affect']*4 + ['Neutral']*2\n",
    "data = {'Condition:':condition, 'Subject ID':sub_id,'Trail':trail,'Group':group}\n",
    "print(pd.DataFrame(data))"
   ]
  },
  {
   "cell_type": "code",
   "execution_count": null,
   "metadata": {},
   "outputs": [],
   "source": []
  }
 ],
 "metadata": {
  "kernelspec": {
   "display_name": "Python [default]",
   "language": "python",
   "name": "python3"
  },
  "language_info": {
   "codemirror_mode": {
    "name": "ipython",
    "version": 3
   },
   "file_extension": ".py",
   "mimetype": "text/x-python",
   "name": "python",
   "nbconvert_exporter": "python",
   "pygments_lexer": "ipython3",
   "version": "3.5.5"
  }
 },
 "nbformat": 4,
 "nbformat_minor": 2
}
