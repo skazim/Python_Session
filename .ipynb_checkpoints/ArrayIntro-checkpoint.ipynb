{
 "cells": [
  {
   "cell_type": "code",
   "execution_count": 12,
   "metadata": {},
   "outputs": [
    {
     "name": "stdout",
     "output_type": "stream",
     "text": [
      "Array List  [1, 2] and its type <class 'list'>\n",
      "Repeats  [1, 2, 1, 2]\n",
      "Concatenation [1, 2, 3, 4]\n"
     ]
    }
   ],
   "source": [
    "# array List\n",
    "a = [1,2]\n",
    "print(\"Array List \",a,\"and its type\", type(a))\n",
    "\n",
    "# Array list Multiplication - Repeats\n",
    "print(\"Repeats \",2*a)\n",
    "\n",
    "# Array List Addition - Concatenates\n",
    "b = [3,4]\n",
    "print(\"Concatenation\",a+b)"
   ]
  },
  {
   "cell_type": "code",
   "execution_count": 26,
   "metadata": {},
   "outputs": [
    {
     "name": "stdout",
     "output_type": "stream",
     "text": [
      "Numpy Array  [1 2] and its type <class 'numpy.ndarray'>\n",
      "Multiplication with constant [2 4]\n",
      "Addition with constant [3 4]\n",
      "Addition with other Numpy Array [4 6]\n",
      "Mulplication with Other Array [3 8]\n",
      "11\n"
     ]
    }
   ],
   "source": [
    "# Numpy array and its Operation\n",
    "\n",
    "import numpy as np\n",
    "a = np.array([1,2])\n",
    "print(\"Numpy Array \",a,\"and its type\", type(a))\n",
    "print(\"Multiplication with constant\", a*2)\n",
    "print(\"Addition with constant\", 2+a)\n",
    "b= np.array([3,4])\n",
    "print(\"Addition with other Numpy Array\", a+b)\n",
    "print(\"Mulplication with Other Array\", a*b) # here * mean component wise or else Voilation of Matrix multiplication\n",
    "c = np.matmul(b,a)\n",
    "print(c)"
   ]
  },
  {
   "cell_type": "code",
   "execution_count": 14,
   "metadata": {},
   "outputs": [
    {
     "name": "stdout",
     "output_type": "stream",
     "text": [
      "[2 4]\n"
     ]
    }
   ],
   "source": [
    "print(2*a)\n"
   ]
  },
  {
   "cell_type": "code",
   "execution_count": 34,
   "metadata": {},
   "outputs": [
    {
     "name": "stdout",
     "output_type": "stream",
     "text": [
      "[0 1 2 3 4]\n",
      "[1.         1.54030231 2.41228029 4.20615993 7.34635638]\n"
     ]
    }
   ],
   "source": []
  },
  {
   "cell_type": "code",
   "execution_count": null,
   "metadata": {},
   "outputs": [],
   "source": []
  }
 ],
 "metadata": {
  "kernelspec": {
   "display_name": "Python [default]",
   "language": "python",
   "name": "python3"
  },
  "language_info": {
   "codemirror_mode": {
    "name": "ipython",
    "version": 3
   },
   "file_extension": ".py",
   "mimetype": "text/x-python",
   "name": "python",
   "nbconvert_exporter": "python",
   "pygments_lexer": "ipython3",
   "version": "3.5.5"
  }
 },
 "nbformat": 4,
 "nbformat_minor": 2
}
