{
 "cells": [
  {
   "cell_type": "markdown",
   "metadata": {},
   "source": [
    "## Python Introduction Programming"
   ]
  },
  {
   "cell_type": "markdown",
   "metadata": {},
   "source": [
    "#### Python Program to Print Hello world!\n",
    "#### Python Program to Add Two Numbers\n",
    "#### Python Program to Calculate the Area of a Triangle\n",
    "#### Python Program to Solve Quadratic Equation\n",
    "#### Python Program to Swap Two Variables\n",
    "#### Python Program to Generate a Random Number\n",
    "#### Python Program to Convert Kilometers to Miles\n",
    "#### Python Program to Convert Celsius To Fahrenheit"
   ]
  },
  {
   "cell_type": "markdown",
   "metadata": {},
   "source": [
    "## Python Looping and Decision Programming"
   ]
  },
  {
   "cell_type": "markdown",
   "metadata": {},
   "source": [
    "#### Python Program to Check if a Number is Positive, Negative or 0\n",
    "#### Python Program to Check if a Number is Odd or Even\n",
    "#### Python Program to Check Leap Year\n",
    "#### Python Program to Find the Largest Among Three Numbers\n",
    "#### Python Program to Check Prime Number\n",
    "#### Python Program to Print all Prime Numbers in an Interval\n",
    "#### Python Program to Find the Factorial of a Number\n",
    "#### Python Program to Display the multiplication Table\n",
    "#### Python Program to Print the Fibonacci sequence\n",
    "#### Python Program to Check Armstrong Number\n",
    "#### Python Program to Find Armstrong Number in an Interval\n",
    "#### Python Program to Find the Sum of Natural Numbers"
   ]
  },
  {
   "cell_type": "code",
   "execution_count": null,
   "metadata": {},
   "outputs": [],
   "source": []
  }
 ],
 "metadata": {
  "kernelspec": {
   "display_name": "Python [default]",
   "language": "python",
   "name": "python3"
  },
  "language_info": {
   "codemirror_mode": {
    "name": "ipython",
    "version": 3
   },
   "file_extension": ".py",
   "mimetype": "text/x-python",
   "name": "python",
   "nbconvert_exporter": "python",
   "pygments_lexer": "ipython3",
   "version": "3.5.5"
  }
 },
 "nbformat": 4,
 "nbformat_minor": 2
}
