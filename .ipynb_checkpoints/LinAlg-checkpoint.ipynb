{
 "cells": [
  {
   "cell_type": "code",
   "execution_count": 1,
   "metadata": {},
   "outputs": [
    {
     "name": "stdout",
     "output_type": "stream",
     "text": [
      "(3, 1) (3, 1)\n"
     ]
    }
   ],
   "source": [
    "import numpy as np\n",
    "\n",
    "# Solving given equation using numpy => AX=B\n",
    "# 3x + 6y − 5z = 12\n",
    "# x − 3y + 2z = −2\n",
    "# 5x − y + 4z = 10\n",
    "# Numpy matrices are 2 dimensional while numpy array are N dimensional\n",
    "\n",
    "A = np.matrix([\n",
    "    [3, 6, -5],\n",
    "    [1, -3, 2],\n",
    "    [5,-1,4]\n",
    "])\n",
    "B = np.matrix([\n",
    "    [12],[-2],[10]\n",
    "])\n",
    "X = A **(-1) * B\n",
    "x = np.linalg.inv(A).dot(B)\n",
    "print(X.shape, x.shape)"
   ]
  },
  {
   "cell_type": "code",
   "execution_count": null,
   "metadata": {},
   "outputs": [],
   "source": [
    "import numpy as np\n",
    "import matplotlib.pyplot as plt\n",
    "\n",
    "# implementing f = x* a + b\n",
    "def func(x,a,b):\n",
    "    return x*a + b\n",
    "\n",
    "x =np.linspace(0,10,100)\n",
    "y =func(x , 2 ,1)\n",
    "\n",
    "yn = y + 0.9 * np.random.normal(size=len(x))\n"
   ]
  },
  {
   "cell_type": "code",
   "execution_count": null,
   "metadata": {},
   "outputs": [],
   "source": []
  },
  {
   "cell_type": "code",
   "execution_count": null,
   "metadata": {},
   "outputs": [],
   "source": []
  }
 ],
 "metadata": {
  "kernelspec": {
   "display_name": "Python [default]",
   "language": "python",
   "name": "python3"
  },
  "language_info": {
   "codemirror_mode": {
    "name": "ipython",
    "version": 3
   },
   "file_extension": ".py",
   "mimetype": "text/x-python",
   "name": "python",
   "nbconvert_exporter": "python",
   "pygments_lexer": "ipython3",
   "version": "3.5.5"
  }
 },
 "nbformat": 4,
 "nbformat_minor": 2
}
