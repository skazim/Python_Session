{
 "cells": [
  {
   "cell_type": "markdown",
   "metadata": {
    "nbpresent": {
     "id": "443c97db-8846-4e75-ad8e-7b1f27dc56e6"
    }
   },
   "source": [
    "# Python Introductory Session "
   ]
  },
  {
   "cell_type": "markdown",
   "metadata": {
    "nbpresent": {
     "id": "a15323a4-f3f6-4ec4-86b3-d40a5af03deb"
    }
   },
   "source": [
    "### About Python\n",
    "\n",
    "#### Portability ---- Python runs everywhere, runs on every Operating System. Python takes care itself.\n",
    "#### Coherence ---- Most of the time you can guess how a method is called, if you dont know it.\n",
    "#### Developer Productivity ---- A python program is typically one fifth the size of equivalent Java or C++ programming languages\n",
    "#### An extensive library ---- Python community all around the world, free access to PYPI(Python Package Index)"
   ]
  },
  {
   "cell_type": "markdown",
   "metadata": {
    "nbpresent": {
     "id": "6210076f-2d1b-44b2-afbc-bae4db0be68d"
    }
   },
   "source": [
    "### Python 2 Versus Python 3"
   ]
  },
  {
   "cell_type": "code",
   "execution_count": 3,
   "metadata": {
    "nbpresent": {
     "id": "659cf53f-cfc4-4f41-ab51-b83fccbcae94"
    }
   },
   "outputs": [
    {
     "name": "stdout",
     "output_type": "stream",
     "text": [
      "3.5.5 |Anaconda custom (64-bit)| (default, Mar 12 2018, 23:12:44) \n",
      "[GCC 7.2.0]\n"
     ]
    }
   ],
   "source": [
    "import sys\n",
    "print (sys.version)"
   ]
  },
  {
   "cell_type": "markdown",
   "metadata": {
    "nbpresent": {
     "id": "2ce53708-a91e-41b9-a203-7c6d27acf0a5"
    }
   },
   "source": [
    "### Installing Python 3"
   ]
  },
  {
   "cell_type": "markdown",
   "metadata": {
    "nbpresent": {
     "id": "2f4df3fe-57a0-4612-b656-bed14618b433"
    }
   },
   "source": [
    "### Installing Anaconda and Jupyter Notebook"
   ]
  },
  {
   "cell_type": "markdown",
   "metadata": {
    "nbpresent": {
     "id": "988dab2f-5247-4fb1-86c7-868ba0d28c36"
    }
   },
   "source": [
    "### Creating Virtual Environment"
   ]
  },
  {
   "cell_type": "markdown",
   "metadata": {
    "nbpresent": {
     "id": "cd2041dd-9f23-45ef-b001-e9a67d83ca20"
    }
   },
   "source": [
    "### Objects Classes Methods\n",
    "#### In python everything is an object --- Methods are things that an object can do.\n",
    "\n",
    "            \"Objects are Python's abstraction for data. All data in a Python program is represented\n",
    "                                    by objects or by relations between objects.\"\n"
   ]
  },
  {
   "cell_type": "markdown",
   "metadata": {
    "nbpresent": {
     "id": "34264fdf-1f03-4a67-9447-db7d140ee377"
    }
   },
   "source": [
    "### Recommended Developement Environment"
   ]
  },
  {
   "cell_type": "markdown",
   "metadata": {
    "nbpresent": {
     "id": "48432d69-cec5-46ce-98bb-f14d61e1aef8"
    }
   },
   "source": [
    "### Getting Started"
   ]
  },
  {
   "cell_type": "code",
   "execution_count": null,
   "metadata": {
    "nbpresent": {
     "id": "6f17f5e9-a7d0-494a-82fd-8bff54e58d2b"
    }
   },
   "outputs": [],
   "source": []
  }
 ],
 "metadata": {
  "kernelspec": {
   "display_name": "Python [default]",
   "language": "python",
   "name": "python3"
  },
  "language_info": {
   "codemirror_mode": {
    "name": "ipython",
    "version": 3
   },
   "file_extension": ".py",
   "mimetype": "text/x-python",
   "name": "python",
   "nbconvert_exporter": "python",
   "pygments_lexer": "ipython3",
   "version": "3.5.5"
  }
 },
 "nbformat": 4,
 "nbformat_minor": 2
}
